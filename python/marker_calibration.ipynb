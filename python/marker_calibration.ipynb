{
 "cells": [
  {
   "cell_type": "code",
   "execution_count": 33,
   "metadata": {},
   "outputs": [],
   "source": [
    "import numpy as np\n",
    "import cv2\n",
    "import glob\n",
    "import scipy.optimize\n",
    "from cv2 import aruco\n",
    "from marker_tracker import markersOnPen, arucoParams\n",
    "\n",
    "def marker_jacobian(dUVdYXZ, dUVdT, marker_count, img_count, marker_id, img_id):\n",
    "    # Rows: [u1, v1, u2, v2, u3, v3, u4, v4] for single image\n",
    "    jac = np.zeros((8, 3*4*marker_count + 6*img_count), dtype=np.float32)\n",
    "    marker_col_start = marker_id * 4 * 3\n",
    "    for i in range(4):\n",
    "        jac[i*2:i*2+2, marker_col_start + i*3:i*3+3+marker_col_start] = dUVdYXZ\n",
    "\n",
    "    camera_col_start = 4 * 3 * marker_count + 6 * img_id\n",
    "    jac[:, camera_col_start:camera_col_start+6] = dUVdT\n",
    "    return jac\n",
    "\n",
    "\n",
    "def residual(x: np.ndarray, x0: np.ndarray, camera_matrix, dist_coeffs, images: list[dict[int, np.ndarray]]):\n",
    "    marker_count = 8\n",
    "    marker_poses = x[0:marker_count*4*3].reshape((marker_count, 4, 3))\n",
    "    camera_poses = x[marker_count*4*3:].reshape((-1, 6))\n",
    "    res_all = []\n",
    "    jac_all = []\n",
    "    for img_id in range(len(images)):\n",
    "        img = images[img_id]\n",
    "        rvec = camera_poses[img_id, 0:3]\n",
    "        tvec = camera_poses[img_id, 3:6]\n",
    "\n",
    "        T = camera_matrix @ np.hstack((cv2.Rodrigues(rvec)[0], tvec.reshape((3,1))))\n",
    "        dUVdXYZ = T[0:2, 0:3] # Jacobian of the projection w.r.t. the marker pose, for a single point\n",
    "        for marker_id, marker_corners_observed in img.items():\n",
    "            canonical_marker_id = marker_id  # - 92\n",
    "            projected: np.ndarray\n",
    "            jac: np.ndarray\n",
    "            projected, jac = cv2.projectPoints(\n",
    "                objectPoints=marker_poses[canonical_marker_id,:,:], # 4x3\n",
    "                rvec=rvec,\n",
    "                tvec=tvec,\n",
    "                cameraMatrix=camera_matrix,\n",
    "                distCoeffs=dist_coeffs,\n",
    "            )\n",
    "\n",
    "            dUVdT = jac[:,0:6] # Jacobian of the projection w.r.t. the camera pose, for all points\n",
    "\n",
    "            marker_jac = marker_jacobian(dUVdXYZ, dUVdT, marker_count, len(images), canonical_marker_id, img_id)\n",
    "\n",
    "            res = projected.flatten() - marker_corners_observed.flatten()\n",
    "            res_all.append(res)\n",
    "            jac_all.append(marker_jac)\n",
    "    # Also minimise difference from initial estimates:\n",
    "    change_min_scaling = 1000\n",
    "    res_all.append((x[0:marker_count*4*3] - x0[0:marker_count*4*3]) * change_min_scaling)\n",
    "    jac_all.append(np.hstack((\n",
    "        np.eye(marker_count*4*3),\n",
    "        np.zeros((marker_count*4*3, 6*len(images))),\n",
    "    )) * change_min_scaling)\n",
    "    # Each column of jac_all is one input variable\n",
    "    # Each row is one residual\n",
    "    return (np.concatenate(res_all), np.vstack(jac_all))\n",
    "\n",
    "def get_observed_points(pathname, arucoParams):\n",
    "    observed_points = []\n",
    "    for iname in glob.glob(pathname):\n",
    "        img = cv2.imread(iname)\n",
    "        # TODO: Better params\n",
    "        corners_all, ids, _ = aruco.detectMarkers(\n",
    "            image=img,\n",
    "            dictionary=aruco.getPredefinedDictionary(aruco.DICT_4X4_100),\n",
    "            parameters=arucoParams,\n",
    "        )\n",
    "        corner_dict = {}\n",
    "        for i in range(ids.shape[0]):\n",
    "            corner_dict[ids[i, 0] - 92] = corners_all[i][0,:,:]\n",
    "        observed_points.append(corner_dict)\n",
    "    return observed_points\n",
    "\n",
    "def get_initial_estimate(observed_points: list[dict[int, np.ndarray]], camera_matrix, dist_coeffs):\n",
    "    marker_count = 8\n",
    "    marker_poses = np.zeros((marker_count, 4, 3), dtype=np.float32)\n",
    "    for mid, corners in markersOnPen.items():\n",
    "        marker_poses[mid - 92,:,:] = corners\n",
    "\n",
    "    camera_poses = np.zeros((len(observed_points), 6), dtype=np.float32)\n",
    "    for img_id, img in enumerate(observed_points):\n",
    "        validMarkers = []\n",
    "        for marker_id, marker_corners_observed in img.items():\n",
    "            if marker_id + 92 in markersOnPen:\n",
    "                validMarkers.append((markersOnPen[marker_id+92], marker_corners_observed))\n",
    "\n",
    "        screenCorners = np.concatenate([cornersIS for _, cornersIS in validMarkers])\n",
    "        penCorners = np.concatenate([cornersPS for cornersPS, _ in validMarkers])\n",
    "        success, rvec, tvec = cv2.solvePnP(\n",
    "            penCorners,\n",
    "            screenCorners,\n",
    "            camera_matrix,\n",
    "            dist_coeffs,\n",
    "            flags=cv2.SOLVEPNP_SQPNP,\n",
    "        )\n",
    "        # rvec = np.zeros((3,), dtype=np.float32)\n",
    "        # tvec = np.zeros((3,), dtype=np.float32)\n",
    "        camera_poses[img_id, :] = np.hstack((rvec.flatten(), tvec.flatten()))\n",
    "    # marker_count = 8\n",
    "    # marker_poses = np.zeros((marker_count, 4, 3), dtype=np.float32)\n",
    "    return np.concatenate((marker_poses.flatten(), camera_poses.flatten()))\n",
    "\n",
    "def calibrate_markers(camera_matrix, dist_coeffs, images: list[dict[int, np.ndarray]]):\n",
    "    x0 = get_initial_estimate(images, camera_matrix, dist_coeffs)\n",
    "    def fun(x):\n",
    "        return residual(x, x0, camera_matrix, dist_coeffs, images)[0]\n",
    "    def jac(x):\n",
    "        return residual(x, x0, camera_matrix, dist_coeffs, images)[1]\n",
    "    res = scipy.optimize.least_squares(\n",
    "        fun=fun,\n",
    "        jac=jac,\n",
    "        x0=x0,\n",
    "        max_nfev=1000,\n",
    "        verbose=2,\n",
    "    )\n",
    "    return res"
   ]
  },
  {
   "cell_type": "code",
   "execution_count": 37,
   "metadata": {},
   "outputs": [
    {
     "data": {
      "text/plain": [
       "{6: array([[934.089  , 761.57025],\n",
       "        [918.8917 , 754.8626 ],\n",
       "        [916.9027 , 673.8126 ],\n",
       "        [931.9539 , 684.1033 ]], dtype=float32),\n",
       " 5: array([[890.6587, 753.3265],\n",
       "        [810.4425, 758.5669],\n",
       "        [809.3852, 677.4712],\n",
       "        [888.0601, 671.9853]], dtype=float32),\n",
       " 0: array([[829.3693 , 569.25806],\n",
       "        [792.0881 , 584.74066],\n",
       "        [791.75146, 510.6473 ],\n",
       "        [828.23914, 492.6829 ]], dtype=float32),\n",
       " 1: array([[927.2496 , 573.3005 ],\n",
       "        [860.36365, 566.3303 ],\n",
       "        [859.00037, 489.39542],\n",
       "        [924.7339 , 498.5793 ]], dtype=float32)}"
      ]
     },
     "metadata": {},
     "output_type": "display_data"
    }
   ],
   "source": [
    "observed_points = get_observed_points('./marker_calibration_pics/f30/*.jpg', arucoParams)\n",
    "display(observed_points[0])"
   ]
  },
  {
   "cell_type": "code",
   "execution_count": 5,
   "metadata": {},
   "outputs": [],
   "source": [
    "from marker_tracker import readCameraParameters\n",
    "\n",
    "\n",
    "camera_matrix, dist_coeffs = readCameraParameters(\"./camera_params_c922_f30.yml\")\n",
    "x0 = get_initial_estimate(observed_points, camera_matrix, dist_coeffs)\n",
    "res, jac = residual(x0, camera_matrix, dist_coeffs, observed_points)"
   ]
  },
  {
   "cell_type": "code",
   "execution_count": 9,
   "metadata": {},
   "outputs": [
    {
     "data": {
      "text/plain": [
       "5257.77734375"
      ]
     },
     "metadata": {},
     "output_type": "display_data"
    },
    {
     "data": {
      "text/plain": [
       "-14.997314"
      ]
     },
     "metadata": {},
     "output_type": "display_data"
    }
   ],
   "source": [
    "display(np.sum(np.square(res))*0.5)\n",
    "display(np.min(res))"
   ]
  },
  {
   "cell_type": "code",
   "execution_count": 38,
   "metadata": {},
   "outputs": [
    {
     "name": "stdout",
     "output_type": "stream",
     "text": [
      "   Iteration     Total nfev        Cost      Cost reduction    Step norm     Optimality   \n",
      "       0              1         4.6784e+03                                    6.03e+04    \n",
      "       1              6         3.8184e+03      8.60e+02       4.10e-03       8.79e+04    \n",
      "       2              8         3.5488e+03      2.70e+02       2.05e-03       4.88e+04    \n",
      "       3             10         3.5321e+03      1.66e+01       1.03e-03       1.83e+04    \n",
      "       4             11         3.5046e+03      2.75e+01       1.03e-03       2.25e+04    \n",
      "       5             12         3.4913e+03      1.33e+01       2.05e-03       3.35e+04    \n",
      "       6             13         3.4707e+03      2.06e+01       2.05e-03       3.29e+04    \n",
      "       7             14         3.4609e+03      9.75e+00       2.05e-03       3.36e+04    \n",
      "       8             15         3.4219e+03      3.90e+01       5.13e-04       7.03e+03    \n",
      "       9             16         3.4195e+03      2.49e+00       1.03e-03       1.24e+04    \n",
      "      10             17         3.4112e+03      8.25e+00       2.56e-04       5.14e+03    \n",
      "      11             18         3.4027e+03      8.49e+00       5.13e-04       7.81e+03    \n",
      "      12             19         3.3917e+03      1.10e+01       1.03e-03       1.38e+04    \n",
      "      13             20         3.3876e+03      4.04e+00       2.05e-03       2.30e+04    \n",
      "      14             21         3.3704e+03      1.72e+01       5.13e-04       6.55e+03    \n",
      "      15             22         3.3566e+03      1.38e+01       1.03e-03       1.22e+04    \n",
      "      16             23         3.3535e+03      3.11e+00       2.05e-03       1.88e+04    \n",
      "      17             24         3.3415e+03      1.20e+01       5.13e-04       4.75e+03    \n",
      "      18             25         3.3248e+03      1.67e+01       1.03e-03       1.07e+04    \n",
      "      19             26         3.3228e+03      1.96e+00       2.05e-03       1.54e+04    \n",
      "      20             27         3.3141e+03      8.70e+00       5.13e-04       5.39e+03    \n",
      "      21             28         3.2976e+03      1.65e+01       1.03e-03       9.31e+03    \n",
      "      22             29         3.2945e+03      3.15e+00       2.05e-03       1.32e+04    \n",
      "      23             30         3.2868e+03      7.68e+00       5.13e-04       5.15e+03    \n",
      "      24             31         3.2766e+03      1.02e+01       5.13e-04       4.34e+03    \n",
      "      25             32         3.2620e+03      1.46e+01       1.03e-03       7.09e+03    \n",
      "      26             35         3.2610e+03      1.00e+00       1.28e-04       4.26e+03    \n",
      "      27             36         3.2608e+03      2.08e-01       1.28e-04       4.26e+03    \n",
      "      28             37         3.2607e+03      1.01e-01       3.20e-05       4.25e+03    \n",
      "      29             38         3.2606e+03      1.11e-01       3.20e-05       4.25e+03    \n",
      "      30             39         3.2605e+03      1.25e-01       3.20e-05       4.25e+03    \n",
      "      31             40         3.2603e+03      1.42e-01       3.20e-05       4.25e+03    \n",
      "      32             41         3.2602e+03      1.59e-01       3.20e-05       4.25e+03    \n",
      "      33             42         3.2600e+03      1.76e-01       3.20e-05       4.25e+03    \n",
      "      34             43         3.2598e+03      1.92e-01       3.20e-05       4.24e+03    \n",
      "      35             44         3.2596e+03      2.07e-01       3.20e-05       4.24e+03    \n",
      "      36             45         3.2594e+03      2.20e-01       3.20e-05       4.24e+03    \n",
      "      37             46         3.2591e+03      2.32e-01       3.20e-05       4.24e+03    \n",
      "      38             47         3.2589e+03      2.43e-01       3.20e-05       4.24e+03    \n",
      "      39             48         3.2586e+03      2.52e-01       3.20e-05       4.24e+03    \n",
      "      40             49         3.2584e+03      2.59e-01       3.20e-05       4.23e+03    \n",
      "      41             50         3.2579e+03      5.18e-01       6.41e-05       4.23e+03    \n",
      "      42             51         3.2568e+03      1.03e+00       1.28e-04       4.23e+03    \n",
      "      43             52         3.2548e+03      2.02e+00       2.56e-04       4.22e+03    \n",
      "      44             53         3.2510e+03      3.80e+00       5.13e-04       4.20e+03    \n",
      "      45             54         3.2466e+03      4.38e+00       5.13e-04       4.18e+03    \n",
      "      46             55         3.2401e+03      6.55e+00       1.03e-03       5.33e+03    \n",
      "      47             56         3.2303e+03      9.80e+00       1.03e-03       4.11e+03    \n",
      "      48             57         3.2206e+03      9.69e+00       2.05e-03       1.04e+04    \n",
      "      49             58         3.1985e+03      2.21e+01       2.05e-03       7.41e+03    \n",
      "      50             60         3.1920e+03      6.54e+00       1.03e-03       6.67e+03    \n",
      "      51             61         3.1811e+03      1.09e+01       1.03e-03       6.28e+03    \n",
      "      52             64         3.1809e+03      1.61e-01       1.28e-04       3.84e+03    \n",
      "      53             65         3.1807e+03      2.14e-01       3.20e-05       3.83e+03    \n",
      "      54             66         3.1805e+03      2.37e-01       3.20e-05       3.83e+03    \n",
      "      55             67         3.1802e+03      2.58e-01       3.20e-05       3.82e+03    \n",
      "      56             68         3.1797e+03      5.34e-01       6.41e-05       3.81e+03    \n",
      "      57             69         3.1786e+03      1.11e+00       1.28e-04       3.79e+03    \n",
      "      58             70         3.1763e+03      2.22e+00       2.56e-04       3.77e+03    \n",
      "      59             71         3.1725e+03      3.85e+00       5.13e-04       3.74e+03    \n",
      "      60             72         3.1665e+03      6.02e+00       1.03e-03       3.70e+03    \n",
      "      61             73         3.1575e+03      8.94e+00       1.03e-03       3.67e+03    \n",
      "      62             74         3.1488e+03      8.70e+00       2.05e-03       7.99e+03    \n",
      "      63             75         3.1282e+03      2.06e+01       2.05e-03       5.48e+03    \n",
      "      64             77         3.1227e+03      5.51e+00       1.03e-03       6.06e+03    \n",
      "      65             78         3.1112e+03      1.15e+01       1.03e-03       4.95e+03    \n",
      "      66             82         3.1111e+03      8.05e-02       3.20e-05       3.53e+03    \n",
      "      67             83         3.1111e+03      4.90e-03       8.01e-06       3.53e+03    \n",
      "      68             84         3.1111e+03      9.78e-04       2.00e-06       3.52e+03    \n",
      "      69             85         3.1111e+03      2.38e-04       5.01e-07       3.52e+03    \n",
      "      70             86         3.1111e+03      5.92e-05       1.25e-07       3.52e+03    \n",
      "      71             87         3.1111e+03      1.48e-05       3.13e-08       3.52e+03    \n",
      "`xtol` termination condition is satisfied.\n",
      "Function evaluations 87, initial cost 4.6784e+03, final cost 3.1111e+03, first-order optimality 3.52e+03.\n"
     ]
    }
   ],
   "source": [
    "result = calibrate_markers(camera_matrix, dist_coeffs, observed_points)"
   ]
  },
  {
   "cell_type": "code",
   "execution_count": 39,
   "metadata": {},
   "outputs": [],
   "source": [
    "import pickle\n",
    "markersOnPenCalibrated = {}\n",
    "posesCalibrated = result.x[0:8*4*3].reshape((8, 4, 3))\n",
    "for i in range(8):\n",
    "    markersOnPenCalibrated[i+92] = posesCalibrated[i,:,:]\n",
    "with open(\"../markersOnPenCalibrated.pkl\", \"wb\") as f:\n",
    "    pickle.dump(markersOnPenCalibrated, f)"
   ]
  },
  {
   "cell_type": "code",
   "execution_count": 16,
   "metadata": {},
   "outputs": [],
   "source": [
    "compare = np.column_stack((x0, result.x))"
   ]
  }
 ],
 "metadata": {
  "kernelspec": {
   "display_name": "venv",
   "language": "python",
   "name": "python3"
  },
  "language_info": {
   "codemirror_mode": {
    "name": "ipython",
    "version": 3
   },
   "file_extension": ".py",
   "mimetype": "text/x-python",
   "name": "python",
   "nbconvert_exporter": "python",
   "pygments_lexer": "ipython3",
   "version": "3.9.1"
  },
  "orig_nbformat": 4
 },
 "nbformat": 4,
 "nbformat_minor": 2
}
